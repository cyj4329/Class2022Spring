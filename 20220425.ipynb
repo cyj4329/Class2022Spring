{
  "nbformat": 4,
  "nbformat_minor": 0,
  "metadata": {
    "colab": {
      "name": "20220425.ipynb",
      "provenance": [],
      "authorship_tag": "ABX9TyOt8z84A2HAJGH3zsGpNU+T",
      "include_colab_link": true
    },
    "kernelspec": {
      "name": "python3",
      "display_name": "Python 3"
    },
    "language_info": {
      "name": "python"
    }
  },
  "cells": [
    {
      "cell_type": "markdown",
      "metadata": {
        "id": "view-in-github",
        "colab_type": "text"
      },
      "source": [
        "<a href=\"https://colab.research.google.com/github/cyj4329/Class2022Spring/blob/main/20220425.ipynb\" target=\"_parent\"><img src=\"https://colab.research.google.com/assets/colab-badge.svg\" alt=\"Open In Colab\"/></a>"
      ]
    },
    {
      "cell_type": "markdown",
      "source": [
        "auto correlation\n",
        "\n",
        "*   시차함수\n",
        "*   오차항들이 상관되어 있을 수 있음.\n",
        "*   serial correlation\n",
        "*   체계적 패턴\n",
        "\n",
        "root mean square (rms)\n",
        "\n",
        "*   제곱평균제곱근 또는 이차평균\n",
        "*   변화하는 값의 크기에 대한 통계적 척도\n",
        "*   제곱한 값의 산술평균의 제곱근\n",
        "*   연속파형을 정의하는 함수의 제곱"
      ],
      "metadata": {
        "id": "WK86LLIiQ2CH"
      }
    }
  ]
}